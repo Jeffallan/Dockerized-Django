{
 "cells": [
  {
   "cell_type": "markdown",
   "metadata": {
    "slideshow": {
     "slide_type": "slide"
    }
   },
   "source": [
    "# Dockerized Django Developemnt"
   ]
  },
  {
   "cell_type": "markdown",
   "metadata": {
    "slideshow": {
     "slide_type": "slide"
    }
   },
   "source": [
    "# About Me\n",
    "\n",
    "## https://jeffallan.github.io"
   ]
  },
  {
   "cell_type": "markdown",
   "metadata": {
    "slideshow": {
     "slide_type": "slide"
    }
   },
   "source": [
    "# Overview\n",
    "\n",
    "- A Brief History \n",
    "- Benefits\n",
    "- Useful Commands\n",
    "- Setting Up Your Environment\n",
    "    - DockerFile\n",
    "    - DockerCompose\n",
    "    - Shell Access to Your Container\n",
    "- Deploying to Heroku?"
   ]
  },
  {
   "cell_type": "markdown",
   "metadata": {
    "slideshow": {
     "slide_type": "slide"
    }
   },
   "source": [
    "# A Brief History\n",
    "\n",
    "    - Bare Metal\n",
    "    - VMs\n",
    "    - Hypervisors\n",
    "    - Containers"
   ]
  },
  {
   "cell_type": "markdown",
   "metadata": {
    "slideshow": {
     "slide_type": "slide"
    }
   },
   "source": [
    "# Benefits\n",
    "\n",
    "    - Less Expensive\n",
    "    - Portable\n",
    "    - Mimics Prodution Environment\n",
    "    - Faster Delivery (CI/CD)\n",
    "    - Integrating Development and Operations Teams\n",
    "    "
   ]
  },
  {
   "cell_type": "markdown",
   "metadata": {
    "slideshow": {
     "slide_type": "slide"
    }
   },
   "source": [
    "# The Demo Code For Today\n",
    "\n",
    "\n",
    "## https://github.com/Jeffallan/Ebook-API"
   ]
  },
  {
   "cell_type": "markdown",
   "metadata": {
    "slideshow": {
     "slide_type": "slide"
    }
   },
   "source": [
    "# Useful Commands For Today\n",
    "\n",
    "```docker system prune```\n",
    "\n",
    "```docker ps```\n",
    "\n",
    "```docker-compose up```\n",
    "\n",
    "```docker-compose config```\n"
   ]
  },
  {
   "cell_type": "markdown",
   "metadata": {
    "slideshow": {
     "slide_type": "slide"
    }
   },
   "source": [
    "# Setting Up The Environment\n",
    "\n",
    "    - /etc/hosts or C:\\Windows\\System32\\drivers\\etc\\hosts\n",
    "    - 0.0.0.0"
   ]
  },
  {
   "cell_type": "markdown",
   "metadata": {
    "slideshow": {
     "slide_type": "slide"
    }
   },
   "source": [
    "## The DockerFile\n",
    "\n",
    "### From the Documentation: \n",
    "\n",
    "Docker can build images automatically by reading the instructions from a Dockerfile. A Dockerfile is a text document that contains all the commands a user could call on the command line to assemble an image. Using docker build users can create an automated build that executes several command-line instructions in succession."
   ]
  },
  {
   "cell_type": "markdown",
   "metadata": {
    "slideshow": {
     "slide_type": "slide"
    }
   },
   "source": [
    "## Docker Compose\n",
    "\n",
    "### From the Documentation:\n",
    "\n",
    "Compose is a tool for defining and running multi-container Docker applications.\n",
    "\n"
   ]
  },
  {
   "cell_type": "markdown",
   "metadata": {
    "slideshow": {
     "slide_type": "slide"
    }
   },
   "source": [
    "## Accessing a Docker Container\n",
    "\n",
    "```docker ps```\n",
    "\n",
    "```docker exec -t -i <container_id> bash```"
   ]
  },
  {
   "cell_type": "markdown",
   "metadata": {
    "slideshow": {
     "slide_type": "slide"
    }
   },
   "source": [
    "# Sources: \n",
    "\n",
    "- https://www.slideshare.net/Docker/introduction-to-docker-2017"
   ]
  },
  {
   "cell_type": "markdown",
   "metadata": {
    "slideshow": {
     "slide_type": "slide"
    }
   },
   "source": [
    "# Resources: \n",
    "\n",
    "- [Docker Installation Guide](https://docs.docker.com/install)\n",
    "- [Docker Compose Installation Guide](https://docs.docker.com/compose/install/)\n",
    "- [Taking Docker Container To Production](https://pythonspeed.com/articles/dockerizing-python-is-hard/)\n",
    "- [Heroku.yml](https://devcenter.heroku.com/articles/build-docker-images-heroku-yml)\n",
    "- [Deploying to Heroku](https://devcenter.heroku.com/articles/container-registry-and-runtime)"
   ]
  }
 ],
 "metadata": {
  "celltoolbar": "Slideshow",
  "kernelspec": {
   "display_name": "Python 3",
   "language": "python",
   "name": "python3"
  },
  "language_info": {
   "codemirror_mode": {
    "name": "ipython",
    "version": 3
   },
   "file_extension": ".py",
   "mimetype": "text/x-python",
   "name": "python",
   "nbconvert_exporter": "python",
   "pygments_lexer": "ipython3",
   "version": "3.7.3"
  }
 },
 "nbformat": 4,
 "nbformat_minor": 2
}
